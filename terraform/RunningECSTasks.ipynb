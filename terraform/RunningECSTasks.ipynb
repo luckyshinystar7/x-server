{
 "cells": [
  {
   "cell_type": "code",
   "execution_count": 2,
   "metadata": {},
   "outputs": [
    {
     "name": "stdout",
     "output_type": "stream",
     "text": [
      "{'tasks': [{'attachments': [{'id': '0f79b13e-9fbd-463c-917f-a5f2efef5fed', 'type': 'ElasticNetworkInterface', 'status': 'PRECREATED', 'details': [{'name': 'subnetId', 'value': 'subnet-0dccaff8859d8e4bc'}]}], 'attributes': [{'name': 'ecs.cpu-architecture', 'value': 'x86_64'}], 'availabilityZone': 'eu-central-1a', 'clusterArn': 'arn:aws:ecs:eu-central-1:654654262492:cluster/my-ecs-cluster', 'containers': [{'containerArn': 'arn:aws:ecs:eu-central-1:654654262492:container/my-ecs-cluster/bcbc87140bcb4183bf566c55f328e717/733fc5c6-2414-42a7-ae57-613938af54f8', 'taskArn': 'arn:aws:ecs:eu-central-1:654654262492:task/my-ecs-cluster/bcbc87140bcb4183bf566c55f328e717', 'name': 'my-container', 'image': '654654262492.dkr.ecr.eu-central-1.amazonaws.com/my-fastapi-app-repo:latest', 'lastStatus': 'PENDING', 'networkInterfaces': [], 'cpu': '256', 'memory': '512'}], 'cpu': '256', 'createdAt': datetime.datetime(2024, 3, 6, 21, 42, 20, 685000, tzinfo=tzlocal()), 'desiredStatus': 'RUNNING', 'enableExecuteCommand': False, 'group': 'family:my-task-family', 'lastStatus': 'PROVISIONING', 'launchType': 'FARGATE', 'memory': '512', 'overrides': {'containerOverrides': [{'name': 'my-container'}], 'inferenceAcceleratorOverrides': []}, 'platformVersion': '1.4.0', 'platformFamily': 'Linux', 'tags': [], 'taskArn': 'arn:aws:ecs:eu-central-1:654654262492:task/my-ecs-cluster/bcbc87140bcb4183bf566c55f328e717', 'taskDefinitionArn': 'arn:aws:ecs:eu-central-1:654654262492:task-definition/my-task-family:1', 'version': 1, 'ephemeralStorage': {'sizeInGiB': 20}}], 'failures': [], 'ResponseMetadata': {'RequestId': 'e8497a6a-9d65-4686-927f-9a91ec569e2a', 'HTTPStatusCode': 200, 'HTTPHeaders': {'x-amzn-requestid': 'e8497a6a-9d65-4686-927f-9a91ec569e2a', 'content-type': 'application/x-amz-json-1.1', 'content-length': '1431', 'date': 'Wed, 06 Mar 2024 20:42:19 GMT'}, 'RetryAttempts': 0}}\n"
     ]
    }
   ],
   "source": [
    "import boto3\n",
    "\n",
    "# Assuming 'lambda_subnet_id' is a single ID or a list of IDs. \n",
    "# If it's a list, make sure to extract one subnet ID or adjust the networkConfiguration accordingly.\n",
    "\n",
    "# Create a session using a specific profile from your ~/.aws/credentials\n",
    "session = boto3.Session(profile_name='private')\n",
    "\n",
    "# Use the session to create the ECS client, specifying the AWS region\n",
    "ecs_client = session.client('ecs', region_name=\"eu-central-1\")\n",
    "\n",
    "# Specify the subnet ID from your Terraform output for 'lambda_subnet_id'\n",
    "# For the purpose of this example, replace 'your-lambda-subnet-id' with the actual ID\n",
    "subnet_id = 'subnet-0dccaff8859d8e4bc'  # Replace with actual subnet ID for lambda_subnet\n",
    "\n",
    "# Run a new task using the cluster and task definition from your Terraform configuration\n",
    "response_run_task = ecs_client.run_task(\n",
    "    cluster='my-ecs-cluster',  # Name of your ECS cluster\n",
    "    taskDefinition='my-task-family',  # Name (or ARN) of your task definition\n",
    "    launchType='FARGATE',\n",
    "    networkConfiguration={\n",
    "        'awsvpcConfiguration': {\n",
    "            'subnets': [\n",
    "                subnet_id,\n",
    "            ],\n",
    "            'assignPublicIp': 'ENABLED'\n",
    "        }\n",
    "    },\n",
    "    count=1\n",
    ")\n",
    "\n",
    "# Print the response to see the outcome (for debugging purposes)\n",
    "print(response_run_task)\n"
   ]
  },
  {
   "cell_type": "code",
   "execution_count": null,
   "metadata": {},
   "outputs": [],
   "source": []
  }
 ],
 "metadata": {
  "kernelspec": {
   "display_name": "twitter",
   "language": "python",
   "name": "python3"
  },
  "language_info": {
   "codemirror_mode": {
    "name": "ipython",
    "version": 3
   },
   "file_extension": ".py",
   "mimetype": "text/x-python",
   "name": "python",
   "nbconvert_exporter": "python",
   "pygments_lexer": "ipython3",
   "version": "3.11.0"
  }
 },
 "nbformat": 4,
 "nbformat_minor": 2
}
