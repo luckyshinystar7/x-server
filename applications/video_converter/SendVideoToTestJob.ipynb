{
 "cells": [
  {
   "cell_type": "code",
   "execution_count": null,
   "metadata": {},
   "outputs": [],
   "source": [
    "import requests\n",
    "\n",
    "def upload_file_to_s3(presigned_url, video_name):\n",
    "    \"\"\"\n",
    "    Uploads a file to an S3 bucket using a presigned URL.\n",
    "\n",
    "    Args:\n",
    "        presigned_url (str): The presigned URL to upload the file.\n",
    "        file_path (str): The path to the .mp4 file to be uploaded.\n",
    "    \"\"\"\n",
    "    try:\n",
    "        with open(f\"./{video_name}\", 'rb') as f:\n",
    "            response = requests.put(presigned_url, data=f)\n",
    "            response.raise_for_status()  # Will raise an exception for HTTP error codes\n",
    "        print(\"File uploaded successfully.\")\n",
    "    except requests.exceptions.HTTPError as errh:\n",
    "        print(f\"HTTP Error: {errh}\")\n",
    "    except requests.exceptions.ConnectionError as errc:\n",
    "        print(f\"Connection Error: {errc}\")\n",
    "    except requests.exceptions.Timeout as errt:\n",
    "        print(f\"Timeout Error: {errt}\")\n",
    "    except requests.exceptions.RequestException as err:\n",
    "        print(f\"Error: {err}\")\n",
    "\n",
    "actual_video_name = \"obama.mp4\"\n",
    "required_video_name = \"obama.mp4\"\n",
    "\n",
    "\n",
    "login_resp = requests.post(url=\"http://127.0.0.1:8080/v1/users/login\", json=\n",
    "    {\"username\":\"lisciowsky\",\"password\":\"mialababakota\"}\n",
    ")\n",
    "login_resp.raise_for_status()\n",
    "\n",
    "upload_resp = requests.get(url=f\"http://127.0.0.1:8080/v1/media/upload-url/{required_video_name}\", cookies={\n",
    "    \"access_token\": login_resp.cookies[\"access_token\"],\n",
    "    \"refresh_token\": login_resp.cookies[\"refresh_token\"],  \n",
    "})\n",
    "upload_resp.raise_for_status()\n",
    "\n",
    "presigned_url = upload_resp.json()[\"url\"]\n",
    "\n",
    "upload_file_to_s3(presigned_url, actual_video_name)\n",
    "\n",
    "register_resp = requests.get(url=f\"http://127.0.0.1:8080/v1/media/register_media/{required_video_name}\", cookies={\n",
    "    \"access_token\": login_resp.cookies[\"access_token\"],\n",
    "    \"refresh_token\": login_resp.cookies[\"refresh_token\"],  \n",
    "})\n",
    "\n",
    "register_resp.raise_for_status()\n",
    "\n"
   ]
  },
  {
   "cell_type": "markdown",
   "metadata": {},
   "source": []
  },
  {
   "cell_type": "code",
   "execution_count": null,
   "metadata": {},
   "outputs": [],
   "source": []
  }
 ],
 "metadata": {
  "kernelspec": {
   "display_name": "twitter",
   "language": "python",
   "name": "python3"
  },
  "language_info": {
   "codemirror_mode": {
    "name": "ipython",
    "version": 3
   },
   "file_extension": ".py",
   "mimetype": "text/x-python",
   "name": "python",
   "nbconvert_exporter": "python",
   "pygments_lexer": "ipython3",
   "version": "3.11.0"
  }
 },
 "nbformat": 4,
 "nbformat_minor": 2
}
